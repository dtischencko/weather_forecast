{
 "cells": [
  {
   "cell_type": "code",
   "execution_count": 1,
   "metadata": {
    "collapsed": true,
    "ExecuteTime": {
     "end_time": "2023-07-22T10:38:58.443647349Z",
     "start_time": "2023-07-22T10:38:56.923836582Z"
    }
   },
   "outputs": [],
   "source": [
    "import os\n",
    "import urllib.request\n",
    "\n",
    "import pandas as pd\n",
    "import numpy as np\n",
    "from matplotlib import pyplot as plt\n",
    "from pandas import Series, DataFrame\n",
    "\n",
    "from sklearn.preprocessing import StandardScaler, MinMaxScaler, Normalizer\n",
    "from sklearn.pipeline import Pipeline\n",
    "from sklearn.ensemble import RandomForestClassifier, AdaBoostClassifier, GradientBoostingClassifier\n",
    "from sklearn.model_selection import cross_validate, train_test_split, GridSearchCV, cross_val_score, StratifiedShuffleSplit\n",
    "from sklearn.metrics import confusion_matrix\n",
    "\n",
    "import mlflow\n",
    "import mlflow.sklearn\n",
    "from mlflow.models.signature import infer_signature\n",
    "from mlflow.client import MlflowClient"
   ]
  },
  {
   "cell_type": "code",
   "execution_count": 2,
   "outputs": [],
   "source": [
    "os.environ['MLFLOW_S3_ENDPOINT_URL'] = \"http://truenas.local:9000\"\n",
    "os.environ[\"MLFLOW_TRACKING_URI\"] = \"http://192.168.1.14:5000\"\n",
    "\n",
    "EXPERIMENT_NAME = \"Weather Forecast Model Experiment\""
   ],
   "metadata": {
    "collapsed": false,
    "ExecuteTime": {
     "end_time": "2023-07-11T11:11:51.135699405Z",
     "start_time": "2023-07-11T11:11:51.087479191Z"
    }
   }
  },
  {
   "cell_type": "code",
   "execution_count": 3,
   "outputs": [],
   "source": [
    "client = MlflowClient()"
   ],
   "metadata": {
    "collapsed": false,
    "ExecuteTime": {
     "end_time": "2023-07-11T11:38:01.094756966Z",
     "start_time": "2023-07-11T11:38:01.054159440Z"
    }
   }
  },
  {
   "cell_type": "code",
   "execution_count": 5,
   "outputs": [],
   "source": [
    "reg_model = client.get_registered_model(\"KrasnodarWeatherForecastModel\")"
   ],
   "metadata": {
    "collapsed": false,
    "ExecuteTime": {
     "end_time": "2023-07-11T11:38:44.364446871Z",
     "start_time": "2023-07-11T11:38:44.339968807Z"
    }
   }
  },
  {
   "cell_type": "markdown",
   "source": [
    "# Load registered model"
   ],
   "metadata": {
    "collapsed": false
   }
  },
  {
   "cell_type": "code",
   "execution_count": 10,
   "outputs": [
    {
     "name": "stderr",
     "output_type": "stream",
     "text": [
      "2023/07/11 14:46:18 WARNING mlflow.pyfunc: Detected one or more mismatches between the model's dependencies and the current Python environment:\n",
      " - mlflow (current: 2.4.2, required: mlflow==2.4)\n",
      "To fix the mismatches, call `mlflow.pyfunc.get_model_dependencies(model_uri)` to fetch the model's environment and install dependencies using the resulting environment file.\n"
     ]
    }
   ],
   "source": [
    "model_uri = \"models:/KrasnodarWeatherForecastModel/production\"\n",
    "loaded_model = mlflow.pyfunc.load_model(model_uri)"
   ],
   "metadata": {
    "collapsed": false,
    "ExecuteTime": {
     "end_time": "2023-07-11T11:46:18.739783516Z",
     "start_time": "2023-07-11T11:46:18.054261930Z"
    }
   }
  },
  {
   "cell_type": "code",
   "execution_count": 26,
   "outputs": [
    {
     "data": {
      "text/plain": "Pipeline(steps=[('scaler', StandardScaler()),\n                ('model',\n                 GradientBoostingClassifier(learning_rate=0.03, max_depth=2,\n                                            n_estimators=200))])",
      "text/html": "<style>#sk-container-id-1 {color: black;}#sk-container-id-1 pre{padding: 0;}#sk-container-id-1 div.sk-toggleable {background-color: white;}#sk-container-id-1 label.sk-toggleable__label {cursor: pointer;display: block;width: 100%;margin-bottom: 0;padding: 0.3em;box-sizing: border-box;text-align: center;}#sk-container-id-1 label.sk-toggleable__label-arrow:before {content: \"▸\";float: left;margin-right: 0.25em;color: #696969;}#sk-container-id-1 label.sk-toggleable__label-arrow:hover:before {color: black;}#sk-container-id-1 div.sk-estimator:hover label.sk-toggleable__label-arrow:before {color: black;}#sk-container-id-1 div.sk-toggleable__content {max-height: 0;max-width: 0;overflow: hidden;text-align: left;background-color: #f0f8ff;}#sk-container-id-1 div.sk-toggleable__content pre {margin: 0.2em;color: black;border-radius: 0.25em;background-color: #f0f8ff;}#sk-container-id-1 input.sk-toggleable__control:checked~div.sk-toggleable__content {max-height: 200px;max-width: 100%;overflow: auto;}#sk-container-id-1 input.sk-toggleable__control:checked~label.sk-toggleable__label-arrow:before {content: \"▾\";}#sk-container-id-1 div.sk-estimator input.sk-toggleable__control:checked~label.sk-toggleable__label {background-color: #d4ebff;}#sk-container-id-1 div.sk-label input.sk-toggleable__control:checked~label.sk-toggleable__label {background-color: #d4ebff;}#sk-container-id-1 input.sk-hidden--visually {border: 0;clip: rect(1px 1px 1px 1px);clip: rect(1px, 1px, 1px, 1px);height: 1px;margin: -1px;overflow: hidden;padding: 0;position: absolute;width: 1px;}#sk-container-id-1 div.sk-estimator {font-family: monospace;background-color: #f0f8ff;border: 1px dotted black;border-radius: 0.25em;box-sizing: border-box;margin-bottom: 0.5em;}#sk-container-id-1 div.sk-estimator:hover {background-color: #d4ebff;}#sk-container-id-1 div.sk-parallel-item::after {content: \"\";width: 100%;border-bottom: 1px solid gray;flex-grow: 1;}#sk-container-id-1 div.sk-label:hover label.sk-toggleable__label {background-color: #d4ebff;}#sk-container-id-1 div.sk-serial::before {content: \"\";position: absolute;border-left: 1px solid gray;box-sizing: border-box;top: 0;bottom: 0;left: 50%;z-index: 0;}#sk-container-id-1 div.sk-serial {display: flex;flex-direction: column;align-items: center;background-color: white;padding-right: 0.2em;padding-left: 0.2em;position: relative;}#sk-container-id-1 div.sk-item {position: relative;z-index: 1;}#sk-container-id-1 div.sk-parallel {display: flex;align-items: stretch;justify-content: center;background-color: white;position: relative;}#sk-container-id-1 div.sk-item::before, #sk-container-id-1 div.sk-parallel-item::before {content: \"\";position: absolute;border-left: 1px solid gray;box-sizing: border-box;top: 0;bottom: 0;left: 50%;z-index: -1;}#sk-container-id-1 div.sk-parallel-item {display: flex;flex-direction: column;z-index: 1;position: relative;background-color: white;}#sk-container-id-1 div.sk-parallel-item:first-child::after {align-self: flex-end;width: 50%;}#sk-container-id-1 div.sk-parallel-item:last-child::after {align-self: flex-start;width: 50%;}#sk-container-id-1 div.sk-parallel-item:only-child::after {width: 0;}#sk-container-id-1 div.sk-dashed-wrapped {border: 1px dashed gray;margin: 0 0.4em 0.5em 0.4em;box-sizing: border-box;padding-bottom: 0.4em;background-color: white;}#sk-container-id-1 div.sk-label label {font-family: monospace;font-weight: bold;display: inline-block;line-height: 1.2em;}#sk-container-id-1 div.sk-label-container {text-align: center;}#sk-container-id-1 div.sk-container {/* jupyter's `normalize.less` sets `[hidden] { display: none; }` but bootstrap.min.css set `[hidden] { display: none !important; }` so we also need the `!important` here to be able to override the default hidden behavior on the sphinx rendered scikit-learn.org. See: https://github.com/scikit-learn/scikit-learn/issues/21755 */display: inline-block !important;position: relative;}#sk-container-id-1 div.sk-text-repr-fallback {display: none;}</style><div id=\"sk-container-id-1\" class=\"sk-top-container\"><div class=\"sk-text-repr-fallback\"><pre>Pipeline(steps=[(&#x27;scaler&#x27;, StandardScaler()),\n                (&#x27;model&#x27;,\n                 GradientBoostingClassifier(learning_rate=0.03, max_depth=2,\n                                            n_estimators=200))])</pre><b>In a Jupyter environment, please rerun this cell to show the HTML representation or trust the notebook. <br />On GitHub, the HTML representation is unable to render, please try loading this page with nbviewer.org.</b></div><div class=\"sk-container\" hidden><div class=\"sk-item sk-dashed-wrapped\"><div class=\"sk-label-container\"><div class=\"sk-label sk-toggleable\"><input class=\"sk-toggleable__control sk-hidden--visually\" id=\"sk-estimator-id-1\" type=\"checkbox\" ><label for=\"sk-estimator-id-1\" class=\"sk-toggleable__label sk-toggleable__label-arrow\">Pipeline</label><div class=\"sk-toggleable__content\"><pre>Pipeline(steps=[(&#x27;scaler&#x27;, StandardScaler()),\n                (&#x27;model&#x27;,\n                 GradientBoostingClassifier(learning_rate=0.03, max_depth=2,\n                                            n_estimators=200))])</pre></div></div></div><div class=\"sk-serial\"><div class=\"sk-item\"><div class=\"sk-estimator sk-toggleable\"><input class=\"sk-toggleable__control sk-hidden--visually\" id=\"sk-estimator-id-2\" type=\"checkbox\" ><label for=\"sk-estimator-id-2\" class=\"sk-toggleable__label sk-toggleable__label-arrow\">StandardScaler</label><div class=\"sk-toggleable__content\"><pre>StandardScaler()</pre></div></div></div><div class=\"sk-item\"><div class=\"sk-estimator sk-toggleable\"><input class=\"sk-toggleable__control sk-hidden--visually\" id=\"sk-estimator-id-3\" type=\"checkbox\" ><label for=\"sk-estimator-id-3\" class=\"sk-toggleable__label sk-toggleable__label-arrow\">GradientBoostingClassifier</label><div class=\"sk-toggleable__content\"><pre>GradientBoostingClassifier(learning_rate=0.03, max_depth=2, n_estimators=200)</pre></div></div></div></div></div></div></div>"
     },
     "execution_count": 26,
     "metadata": {},
     "output_type": "execute_result"
    }
   ],
   "source": [
    "sklearn_model = mlflow.sklearn.load_model(model_uri)\n",
    "sklearn_model"
   ],
   "metadata": {
    "collapsed": false,
    "ExecuteTime": {
     "end_time": "2023-07-11T14:38:29.573261821Z",
     "start_time": "2023-07-11T14:38:29.285762433Z"
    }
   }
  },
  {
   "cell_type": "code",
   "execution_count": 11,
   "outputs": [
    {
     "data": {
      "text/plain": "<mlflow.models.model.Model at 0x7f184b554820>"
     },
     "execution_count": 11,
     "metadata": {},
     "output_type": "execute_result"
    }
   ],
   "source": [
    "loaded_model.metadata"
   ],
   "metadata": {
    "collapsed": false,
    "ExecuteTime": {
     "end_time": "2023-07-11T11:46:49.188058576Z",
     "start_time": "2023-07-11T11:46:49.183470932Z"
    }
   }
  },
  {
   "cell_type": "code",
   "execution_count": 13,
   "outputs": [
    {
     "data": {
      "text/plain": "                                         name    datetime  tempmax  tempmin  \\\n0  Краснодар, Южный федеральный округ, Россия  2023-07-11       25       17   \n\n   temp  feelslikemax  feelslikemin  feelslike   dew  humidity  ...  \\\n0  20.3            25            17       20.3  14.8      71.7  ...   \n\n   solarenergy  uvindex  severerisk              sunrise               sunset  \\\n0         16.1        8          30  2023-07-11T04:47:47  2023-07-11T20:11:02   \n\n   moonphase              conditions  \\\n0       0.78  Rain, Partially cloudy   \n\n                                         description  icon  stations  \n0  Partly cloudy throughout the day with storms p...  rain      URKK  \n\n[1 rows x 33 columns]",
      "text/html": "<div>\n<style scoped>\n    .dataframe tbody tr th:only-of-type {\n        vertical-align: middle;\n    }\n\n    .dataframe tbody tr th {\n        vertical-align: top;\n    }\n\n    .dataframe thead th {\n        text-align: right;\n    }\n</style>\n<table border=\"1\" class=\"dataframe\">\n  <thead>\n    <tr style=\"text-align: right;\">\n      <th></th>\n      <th>name</th>\n      <th>datetime</th>\n      <th>tempmax</th>\n      <th>tempmin</th>\n      <th>temp</th>\n      <th>feelslikemax</th>\n      <th>feelslikemin</th>\n      <th>feelslike</th>\n      <th>dew</th>\n      <th>humidity</th>\n      <th>...</th>\n      <th>solarenergy</th>\n      <th>uvindex</th>\n      <th>severerisk</th>\n      <th>sunrise</th>\n      <th>sunset</th>\n      <th>moonphase</th>\n      <th>conditions</th>\n      <th>description</th>\n      <th>icon</th>\n      <th>stations</th>\n    </tr>\n  </thead>\n  <tbody>\n    <tr>\n      <th>0</th>\n      <td>Краснодар, Южный федеральный округ, Россия</td>\n      <td>2023-07-11</td>\n      <td>25</td>\n      <td>17</td>\n      <td>20.3</td>\n      <td>25</td>\n      <td>17</td>\n      <td>20.3</td>\n      <td>14.8</td>\n      <td>71.7</td>\n      <td>...</td>\n      <td>16.1</td>\n      <td>8</td>\n      <td>30</td>\n      <td>2023-07-11T04:47:47</td>\n      <td>2023-07-11T20:11:02</td>\n      <td>0.78</td>\n      <td>Rain, Partially cloudy</td>\n      <td>Partly cloudy throughout the day with storms p...</td>\n      <td>rain</td>\n      <td>URKK</td>\n    </tr>\n  </tbody>\n</table>\n<p>1 rows × 33 columns</p>\n</div>"
     },
     "execution_count": 13,
     "metadata": {},
     "output_type": "execute_result"
    }
   ],
   "source": [
    "data = urllib.request.urlopen(\"https://weather.visualcrossing.com/VisualCrossingWebServices/rest/services/timeline/Russia%2C%20Krasnodar/today?unitGroup=metric&include=days&key=|||||||&contentType=csv\")\n",
    "df = pd.read_csv(data)\n",
    "df"
   ],
   "metadata": {
    "collapsed": false,
    "ExecuteTime": {
     "end_time": "2023-07-11T13:28:33.925544697Z",
     "start_time": "2023-07-11T13:28:33.205474513Z"
    }
   }
  },
  {
   "cell_type": "markdown",
   "source": [
    "# Data preprocessing for prediction"
   ],
   "metadata": {
    "collapsed": false
   }
  },
  {
   "cell_type": "code",
   "execution_count": 22,
   "outputs": [
    {
     "name": "stdout",
     "output_type": "stream",
     "text": [
      "X:    tempmax  tempmin  temp  feelslikemax  feelslikemin  feelslike   dew  \\\n",
      "0     25.0     17.0  20.3          25.0          17.0       20.3  14.8   \n",
      "\n",
      "   humidity  precip  precipcover  windgust  windspeed  winddir  \\\n",
      "0      71.7     2.3        33.33      42.1       28.8    243.4   \n",
      "\n",
      "   sealevelpressure  cloudcover  visibility  solarradiation  solarenergy  \\\n",
      "0            1011.3        45.7        13.0           185.6         16.1   \n",
      "\n",
      "   uvindex  \n",
      "0        8  \n",
      "\n",
      "y: 0    rain\n",
      "Name: icon, dtype: object\n"
     ]
    }
   ],
   "source": [
    "df_for_pred = df.drop(['name', 'conditions', 'datetime', 'description', 'moonphase', 'precipprob', 'preciptype', 'snow', 'snowdepth', 'stations', 'sunrise', 'sunset', 'severerisk'], axis=1)\n",
    "df_for_pred['windgust'] = df_for_pred['windgust'].fillna(0.0)\n",
    "y_for_pred = df_for_pred['icon']\n",
    "df_for_pred = df_for_pred.drop(['icon'], axis=1)\n",
    "df_for_pred = df_for_pred.astype(np.float64)\n",
    "df_for_pred['uvindex'] = df_for_pred['uvindex'].astype(np.int64)\n",
    "\n",
    "print(f\"X: {df_for_pred}\\n\\ny: {y_for_pred}\")"
   ],
   "metadata": {
    "collapsed": false,
    "ExecuteTime": {
     "end_time": "2023-07-11T13:44:58.846418121Z",
     "start_time": "2023-07-11T13:44:58.802442631Z"
    }
   }
  },
  {
   "cell_type": "code",
   "execution_count": 23,
   "outputs": [
    {
     "data": {
      "text/plain": "   tempmax  tempmin  temp  feelslikemax  feelslikemin  feelslike   dew  \\\n0     25.0     17.0  20.3          25.0          17.0       20.3  14.8   \n\n   humidity  precip  precipcover  windgust  windspeed  winddir  \\\n0      71.7     2.3        33.33      42.1       28.8    243.4   \n\n   sealevelpressure  cloudcover  visibility  solarradiation  solarenergy  \\\n0            1011.3        45.7        13.0           185.6         16.1   \n\n   uvindex  \n0        8  ",
      "text/html": "<div>\n<style scoped>\n    .dataframe tbody tr th:only-of-type {\n        vertical-align: middle;\n    }\n\n    .dataframe tbody tr th {\n        vertical-align: top;\n    }\n\n    .dataframe thead th {\n        text-align: right;\n    }\n</style>\n<table border=\"1\" class=\"dataframe\">\n  <thead>\n    <tr style=\"text-align: right;\">\n      <th></th>\n      <th>tempmax</th>\n      <th>tempmin</th>\n      <th>temp</th>\n      <th>feelslikemax</th>\n      <th>feelslikemin</th>\n      <th>feelslike</th>\n      <th>dew</th>\n      <th>humidity</th>\n      <th>precip</th>\n      <th>precipcover</th>\n      <th>windgust</th>\n      <th>windspeed</th>\n      <th>winddir</th>\n      <th>sealevelpressure</th>\n      <th>cloudcover</th>\n      <th>visibility</th>\n      <th>solarradiation</th>\n      <th>solarenergy</th>\n      <th>uvindex</th>\n    </tr>\n  </thead>\n  <tbody>\n    <tr>\n      <th>0</th>\n      <td>25.0</td>\n      <td>17.0</td>\n      <td>20.3</td>\n      <td>25.0</td>\n      <td>17.0</td>\n      <td>20.3</td>\n      <td>14.8</td>\n      <td>71.7</td>\n      <td>2.3</td>\n      <td>33.33</td>\n      <td>42.1</td>\n      <td>28.8</td>\n      <td>243.4</td>\n      <td>1011.3</td>\n      <td>45.7</td>\n      <td>13.0</td>\n      <td>185.6</td>\n      <td>16.1</td>\n      <td>8</td>\n    </tr>\n  </tbody>\n</table>\n</div>"
     },
     "execution_count": 23,
     "metadata": {},
     "output_type": "execute_result"
    }
   ],
   "source": [
    "df_for_pred"
   ],
   "metadata": {
    "collapsed": false,
    "ExecuteTime": {
     "end_time": "2023-07-11T13:45:00.486838413Z",
     "start_time": "2023-07-11T13:45:00.480461528Z"
    }
   }
  },
  {
   "cell_type": "code",
   "execution_count": 24,
   "outputs": [
    {
     "data": {
      "text/plain": "array(['rain'], dtype=object)"
     },
     "execution_count": 24,
     "metadata": {},
     "output_type": "execute_result"
    }
   ],
   "source": [
    "y_pred = loaded_model.predict(df_for_pred)\n",
    "y_pred"
   ],
   "metadata": {
    "collapsed": false,
    "ExecuteTime": {
     "end_time": "2023-07-11T13:45:06.062313722Z",
     "start_time": "2023-07-11T13:45:06.051903323Z"
    }
   }
  },
  {
   "cell_type": "code",
   "execution_count": 27,
   "outputs": [
    {
     "data": {
      "text/plain": "array([[2.96508713e-04, 3.07553626e-05, 3.27368911e-06, 4.60538337e-04,\n        9.97836388e-01, 1.37005783e-03, 2.47796694e-06]])"
     },
     "execution_count": 27,
     "metadata": {},
     "output_type": "execute_result"
    }
   ],
   "source": [
    "sklearn_model.predict_proba(df_for_pred)"
   ],
   "metadata": {
    "collapsed": false,
    "ExecuteTime": {
     "end_time": "2023-07-11T14:39:12.670113982Z",
     "start_time": "2023-07-11T14:39:12.625713623Z"
    }
   }
  },
  {
   "cell_type": "markdown",
   "source": [
    "# Test Clear-Day"
   ],
   "metadata": {
    "collapsed": false
   }
  },
  {
   "cell_type": "code",
   "execution_count": 2,
   "outputs": [
    {
     "data": {
      "text/plain": "                                         name    datetime  tempmax  tempmin  \\\n0  Краснодар, Южный федеральный округ, Россия  2023-07-22     33.3       19   \n\n   temp  feelslikemax  feelslikemin  feelslike  dew  humidity  ...  \\\n0  26.2          32.6            19       26.3   17      61.4  ...   \n\n   solarenergy  uvindex  severerisk              sunrise               sunset  \\\n0         28.3        9          10  2023-07-22T04:57:58  2023-07-22T20:02:38   \n\n   moonphase  conditions                           description       icon  \\\n0       0.15       Clear  Clear conditions throughout the day.  clear-day   \n\n   stations  \n0      URKK  \n\n[1 rows x 33 columns]",
      "text/html": "<div>\n<style scoped>\n    .dataframe tbody tr th:only-of-type {\n        vertical-align: middle;\n    }\n\n    .dataframe tbody tr th {\n        vertical-align: top;\n    }\n\n    .dataframe thead th {\n        text-align: right;\n    }\n</style>\n<table border=\"1\" class=\"dataframe\">\n  <thead>\n    <tr style=\"text-align: right;\">\n      <th></th>\n      <th>name</th>\n      <th>datetime</th>\n      <th>tempmax</th>\n      <th>tempmin</th>\n      <th>temp</th>\n      <th>feelslikemax</th>\n      <th>feelslikemin</th>\n      <th>feelslike</th>\n      <th>dew</th>\n      <th>humidity</th>\n      <th>...</th>\n      <th>solarenergy</th>\n      <th>uvindex</th>\n      <th>severerisk</th>\n      <th>sunrise</th>\n      <th>sunset</th>\n      <th>moonphase</th>\n      <th>conditions</th>\n      <th>description</th>\n      <th>icon</th>\n      <th>stations</th>\n    </tr>\n  </thead>\n  <tbody>\n    <tr>\n      <th>0</th>\n      <td>Краснодар, Южный федеральный округ, Россия</td>\n      <td>2023-07-22</td>\n      <td>33.3</td>\n      <td>19</td>\n      <td>26.2</td>\n      <td>32.6</td>\n      <td>19</td>\n      <td>26.3</td>\n      <td>17</td>\n      <td>61.4</td>\n      <td>...</td>\n      <td>28.3</td>\n      <td>9</td>\n      <td>10</td>\n      <td>2023-07-22T04:57:58</td>\n      <td>2023-07-22T20:02:38</td>\n      <td>0.15</td>\n      <td>Clear</td>\n      <td>Clear conditions throughout the day.</td>\n      <td>clear-day</td>\n      <td>URKK</td>\n    </tr>\n  </tbody>\n</table>\n<p>1 rows × 33 columns</p>\n</div>"
     },
     "execution_count": 2,
     "metadata": {},
     "output_type": "execute_result"
    }
   ],
   "source": [
    "data = urllib.request.urlopen(\"https://weather.visualcrossing.com/VisualCrossingWebServices/rest/services/timeline/Russia%2C%20Krasnodar/today?unitGroup=metric&include=days&key=||||||&contentType=csv\")\n",
    "df = pd.read_csv(data)\n",
    "df"
   ],
   "metadata": {
    "collapsed": false,
    "ExecuteTime": {
     "end_time": "2023-07-22T10:39:25.521330385Z",
     "start_time": "2023-07-22T10:39:22.249010505Z"
    }
   }
  },
  {
   "cell_type": "code",
   "execution_count": 4,
   "outputs": [
    {
     "data": {
      "text/plain": "                                         name    datetime  tempmax  tempmin  \\\n0  Краснодар, Южный федеральный округ, Россия  2023-07-21       31       15   \n\n   temp  feelslikemax  feelslikemin  feelslike   dew  humidity  ...  \\\n0    24          31.3            15       24.1  15.9      63.3  ...   \n\n   solarenergy  uvindex  severerisk              sunrise               sunset  \\\n0         28.5        9          10  2023-07-21T04:56:57  2023-07-21T20:03:34   \n\n   moonphase  conditions                           description       icon  \\\n0       0.12       Clear  Clear conditions throughout the day.  clear-day   \n\n   stations  \n0      URKK  \n\n[1 rows x 33 columns]",
      "text/html": "<div>\n<style scoped>\n    .dataframe tbody tr th:only-of-type {\n        vertical-align: middle;\n    }\n\n    .dataframe tbody tr th {\n        vertical-align: top;\n    }\n\n    .dataframe thead th {\n        text-align: right;\n    }\n</style>\n<table border=\"1\" class=\"dataframe\">\n  <thead>\n    <tr style=\"text-align: right;\">\n      <th></th>\n      <th>name</th>\n      <th>datetime</th>\n      <th>tempmax</th>\n      <th>tempmin</th>\n      <th>temp</th>\n      <th>feelslikemax</th>\n      <th>feelslikemin</th>\n      <th>feelslike</th>\n      <th>dew</th>\n      <th>humidity</th>\n      <th>...</th>\n      <th>solarenergy</th>\n      <th>uvindex</th>\n      <th>severerisk</th>\n      <th>sunrise</th>\n      <th>sunset</th>\n      <th>moonphase</th>\n      <th>conditions</th>\n      <th>description</th>\n      <th>icon</th>\n      <th>stations</th>\n    </tr>\n  </thead>\n  <tbody>\n    <tr>\n      <th>0</th>\n      <td>Краснодар, Южный федеральный округ, Россия</td>\n      <td>2023-07-21</td>\n      <td>31</td>\n      <td>15</td>\n      <td>24</td>\n      <td>31.3</td>\n      <td>15</td>\n      <td>24.1</td>\n      <td>15.9</td>\n      <td>63.3</td>\n      <td>...</td>\n      <td>28.5</td>\n      <td>9</td>\n      <td>10</td>\n      <td>2023-07-21T04:56:57</td>\n      <td>2023-07-21T20:03:34</td>\n      <td>0.12</td>\n      <td>Clear</td>\n      <td>Clear conditions throughout the day.</td>\n      <td>clear-day</td>\n      <td>URKK</td>\n    </tr>\n  </tbody>\n</table>\n<p>1 rows × 33 columns</p>\n</div>"
     },
     "execution_count": 4,
     "metadata": {},
     "output_type": "execute_result"
    }
   ],
   "source": [
    "df = DataFrame(data=df.values.tolist(), columns=df.columns.tolist())\n",
    "df"
   ],
   "metadata": {
    "collapsed": false,
    "ExecuteTime": {
     "end_time": "2023-07-21T18:39:58.502883444Z",
     "start_time": "2023-07-21T18:39:58.495647214Z"
    }
   }
  },
  {
   "cell_type": "code",
   "execution_count": 6,
   "outputs": [
    {
     "name": "stdout",
     "output_type": "stream",
     "text": [
      "X:    tempmax  tempmin  temp  feelslikemax  feelslikemin  feelslike   dew  \\\n",
      "0     33.3     19.0  26.2          32.6          19.0       26.3  17.0   \n",
      "\n",
      "   humidity  precip  precipcover  windgust  windspeed  winddir  \\\n",
      "0      61.4     0.0          0.0      19.1       10.8    292.0   \n",
      "\n",
      "   sealevelpressure  cloudcover  visibility  solarradiation  solarenergy  \\\n",
      "0            1014.0        17.4        16.5           326.0         28.3   \n",
      "\n",
      "   uvindex  \n",
      "0        9  \n",
      "\n",
      "y: 0    clear-day\n",
      "Name: icon, dtype: object\n"
     ]
    }
   ],
   "source": [
    "df_for_pred = df.drop(['name', 'conditions', 'datetime', 'description', 'moonphase', 'precipprob', 'preciptype', 'snow', 'snowdepth', 'stations', 'sunrise', 'sunset', 'severerisk'], axis=1)\n",
    "df_for_pred['windgust'] = df_for_pred['windgust'].fillna(0.0)\n",
    "y_for_pred = df_for_pred['icon']\n",
    "df_for_pred = df_for_pred.drop(['icon'], axis=1)\n",
    "df_for_pred = df_for_pred.astype(np.float64)\n",
    "df_for_pred['uvindex'] = df_for_pred['uvindex'].astype(np.int64)\n",
    "\n",
    "print(f\"X: {df_for_pred}\\n\\ny: {y_for_pred}\")"
   ],
   "metadata": {
    "collapsed": false,
    "ExecuteTime": {
     "end_time": "2023-07-22T10:40:16.468142536Z",
     "start_time": "2023-07-22T10:40:16.445368425Z"
    }
   }
  },
  {
   "cell_type": "code",
   "execution_count": 32,
   "outputs": [
    {
     "data": {
      "text/plain": "array(['clear-day'], dtype=object)"
     },
     "execution_count": 32,
     "metadata": {},
     "output_type": "execute_result"
    }
   ],
   "source": [
    "y_pred = loaded_model.predict(df_for_pred)\n",
    "y_pred"
   ],
   "metadata": {
    "collapsed": false,
    "ExecuteTime": {
     "end_time": "2023-07-11T14:49:50.713158341Z",
     "start_time": "2023-07-11T14:49:50.701620547Z"
    }
   }
  },
  {
   "cell_type": "code",
   "execution_count": 33,
   "outputs": [
    {
     "data": {
      "text/plain": "array([[9.98273853e-01, 1.05622052e-06, 1.12509563e-07, 1.42664656e-03,\n        2.51155911e-04, 4.70888873e-05, 8.73892207e-08]])"
     },
     "execution_count": 33,
     "metadata": {},
     "output_type": "execute_result"
    }
   ],
   "source": [
    "sklearn_model.predict_proba(df_for_pred)"
   ],
   "metadata": {
    "collapsed": false,
    "ExecuteTime": {
     "end_time": "2023-07-11T14:50:11.834747550Z",
     "start_time": "2023-07-11T14:50:11.819011780Z"
    }
   }
  },
  {
   "cell_type": "code",
   "execution_count": 3,
   "outputs": [],
   "source": [
    "import urllib.request\n",
    "\n",
    "data = urllib.request.urlopen(\"https://weather.visualcrossing.com/VisualCrossingWebServices/rest/services/timeline/Russia%2C%20Krasnodar/today?unitGroup=metric&include=days&key=|||||||&contentType=csv\")"
   ],
   "metadata": {
    "collapsed": false,
    "ExecuteTime": {
     "end_time": "2023-07-21T10:37:11.785040267Z",
     "start_time": "2023-07-21T10:37:10.868713478Z"
    }
   }
  },
  {
   "cell_type": "code",
   "execution_count": 64,
   "outputs": [
    {
     "data": {
      "text/plain": "'19/07/2023|16:00:56'"
     },
     "execution_count": 64,
     "metadata": {},
     "output_type": "execute_result"
    }
   ],
   "source": [
    "import time\n",
    "import datetime\n",
    "\n",
    "datetime.datetime.now().strftime(\"%d/%m/%Y|%H:%M:%S\")"
   ],
   "metadata": {
    "collapsed": false,
    "ExecuteTime": {
     "end_time": "2023-07-19T13:00:56.803171975Z",
     "start_time": "2023-07-19T13:00:56.752612535Z"
    }
   }
  },
  {
   "cell_type": "code",
   "execution_count": 6,
   "outputs": [
    {
     "data": {
      "text/plain": "                                         name    datetime  tempmax  tempmin  \\\n0  Краснодар, Южный федеральный округ, Россия  2023-07-21     32.6       15   \n\n   temp  feelslikemax  feelslikemin  feelslike   dew  humidity  ...  \\\n0  24.5          31.3            15       24.1  14.2      57.9  ...   \n\n   solarenergy  uvindex  severerisk              sunrise               sunset  \\\n0         28.5        9          10  2023-07-21T04:56:57  2023-07-21T20:03:34   \n\n   moonphase  conditions                           description       icon  \\\n0       0.12       Clear  Clear conditions throughout the day.  clear-day   \n\n   stations  \n0      URKK  \n\n[1 rows x 33 columns]",
      "text/html": "<div>\n<style scoped>\n    .dataframe tbody tr th:only-of-type {\n        vertical-align: middle;\n    }\n\n    .dataframe tbody tr th {\n        vertical-align: top;\n    }\n\n    .dataframe thead th {\n        text-align: right;\n    }\n</style>\n<table border=\"1\" class=\"dataframe\">\n  <thead>\n    <tr style=\"text-align: right;\">\n      <th></th>\n      <th>name</th>\n      <th>datetime</th>\n      <th>tempmax</th>\n      <th>tempmin</th>\n      <th>temp</th>\n      <th>feelslikemax</th>\n      <th>feelslikemin</th>\n      <th>feelslike</th>\n      <th>dew</th>\n      <th>humidity</th>\n      <th>...</th>\n      <th>solarenergy</th>\n      <th>uvindex</th>\n      <th>severerisk</th>\n      <th>sunrise</th>\n      <th>sunset</th>\n      <th>moonphase</th>\n      <th>conditions</th>\n      <th>description</th>\n      <th>icon</th>\n      <th>stations</th>\n    </tr>\n  </thead>\n  <tbody>\n    <tr>\n      <th>0</th>\n      <td>Краснодар, Южный федеральный округ, Россия</td>\n      <td>2023-07-21</td>\n      <td>32.6</td>\n      <td>15</td>\n      <td>24.5</td>\n      <td>31.3</td>\n      <td>15</td>\n      <td>24.1</td>\n      <td>14.2</td>\n      <td>57.9</td>\n      <td>...</td>\n      <td>28.5</td>\n      <td>9</td>\n      <td>10</td>\n      <td>2023-07-21T04:56:57</td>\n      <td>2023-07-21T20:03:34</td>\n      <td>0.12</td>\n      <td>Clear</td>\n      <td>Clear conditions throughout the day.</td>\n      <td>clear-day</td>\n      <td>URKK</td>\n    </tr>\n  </tbody>\n</table>\n<p>1 rows × 33 columns</p>\n</div>"
     },
     "execution_count": 6,
     "metadata": {},
     "output_type": "execute_result"
    }
   ],
   "source": [
    "df = pd.read_csv(data)\n",
    "df"
   ],
   "metadata": {
    "collapsed": false,
    "ExecuteTime": {
     "end_time": "2023-07-21T10:37:49.212288676Z",
     "start_time": "2023-07-21T10:37:49.122463115Z"
    }
   }
  },
  {
   "cell_type": "code",
   "execution_count": 9,
   "outputs": [
    {
     "data": {
      "text/plain": "[[33.3,\n  19.0,\n  26.2,\n  32.6,\n  19.0,\n  26.3,\n  17.0,\n  61.4,\n  0.0,\n  0.0,\n  19.1,\n  10.8,\n  292.0,\n  1014.0,\n  17.4,\n  16.5,\n  326.0,\n  28.3,\n  9.0]]"
     },
     "execution_count": 9,
     "metadata": {},
     "output_type": "execute_result"
    }
   ],
   "source": [
    "raw_data = df_for_pred.values.tolist()\n",
    "# columns_data = df_for_pred.columns.tolist()\n",
    "# columns_data\n",
    "raw_data\n",
    "# pd.DataFrame(raw_data, columns=columns_data)"
   ],
   "metadata": {
    "collapsed": false,
    "ExecuteTime": {
     "end_time": "2023-07-22T10:42:25.064007189Z",
     "start_time": "2023-07-22T10:42:25.056509733Z"
    }
   }
  },
  {
   "cell_type": "markdown",
   "source": [
    "## Serving Test"
   ],
   "metadata": {
    "collapsed": false
   }
  },
  {
   "cell_type": "code",
   "execution_count": 20,
   "outputs": [],
   "source": [
    "import pandas as pd\n",
    "import requests\n",
    "\n",
    "json_data = df_for_pred.to_json(orient=\"records\")\n",
    "json_data = eval(json_data)[0]"
   ],
   "metadata": {
    "collapsed": false,
    "ExecuteTime": {
     "end_time": "2023-07-21T18:43:38.570537764Z",
     "start_time": "2023-07-21T18:43:38.556671882Z"
    }
   }
  },
  {
   "cell_type": "code",
   "execution_count": 21,
   "outputs": [
    {
     "data": {
      "text/plain": "{'dataframe_split': {'tempmax': 31.0,\n  'tempmin': 15.0,\n  'temp': 24.0,\n  'feelslikemax': 31.3,\n  'feelslikemin': 15.0,\n  'feelslike': 24.1,\n  'dew': 15.9,\n  'humidity': 63.3,\n  'precip': 0.0,\n  'precipcover': 0.0,\n  'windgust': 26.6,\n  'windspeed': 21.6,\n  'winddir': 9.7,\n  'sealevelpressure': 1010.8,\n  'cloudcover': 15.5,\n  'visibility': 11.8,\n  'solarradiation': 328.1,\n  'solarenergy': 28.5,\n  'uvindex': 9}}"
     },
     "execution_count": 21,
     "metadata": {},
     "output_type": "execute_result"
    }
   ],
   "source": [
    "json_data = {\"dataframe_split\": json_data}\n",
    "json_data"
   ],
   "metadata": {
    "collapsed": false,
    "ExecuteTime": {
     "end_time": "2023-07-21T18:43:39.007499348Z",
     "start_time": "2023-07-21T18:43:38.994487448Z"
    }
   }
  },
  {
   "cell_type": "code",
   "execution_count": null,
   "outputs": [],
   "source": [],
   "metadata": {
    "collapsed": false
   }
  }
 ],
 "metadata": {
  "kernelspec": {
   "display_name": "Python 3",
   "language": "python",
   "name": "python3"
  },
  "language_info": {
   "codemirror_mode": {
    "name": "ipython",
    "version": 2
   },
   "file_extension": ".py",
   "mimetype": "text/x-python",
   "name": "python",
   "nbconvert_exporter": "python",
   "pygments_lexer": "ipython2",
   "version": "2.7.6"
  }
 },
 "nbformat": 4,
 "nbformat_minor": 0
}
