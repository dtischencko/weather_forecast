{
 "cells": [
  {
   "cell_type": "code",
   "execution_count": 80,
   "metadata": {
    "collapsed": true,
    "ExecuteTime": {
     "end_time": "2023-07-10T15:19:10.493948213Z",
     "start_time": "2023-07-10T15:19:10.453087882Z"
    }
   },
   "outputs": [],
   "source": [
    "import os\n",
    "\n",
    "import pandas as pd\n",
    "import numpy as np\n",
    "from matplotlib import pyplot as plt\n",
    "from pandas import Series, DataFrame\n",
    "\n",
    "from sklearn.preprocessing import StandardScaler, MinMaxScaler, Normalizer\n",
    "from sklearn.pipeline import Pipeline\n",
    "from sklearn.ensemble import RandomForestClassifier, AdaBoostClassifier, GradientBoostingClassifier\n",
    "from sklearn.model_selection import cross_validate, train_test_split, GridSearchCV, cross_val_score, StratifiedShuffleSplit\n",
    "from sklearn.metrics import confusion_matrix\n",
    "\n",
    "import mlflow\n",
    "import mlflow.sklearn\n",
    "from mlflow.models.signature import infer_signature\n",
    "from mlflow.client import MlflowClient"
   ]
  },
  {
   "cell_type": "code",
   "execution_count": 6,
   "outputs": [],
   "source": [
    "os.environ['MLFLOW_S3_ENDPOINT_URL'] = \"http://truenas.local:9000\"\n",
    "os.environ[\"MLFLOW_TRACKING_URI\"] = \"http://192.168.1.14:5000\"\n",
    "\n",
    "EXPERIMENT_NAME = \"Weather Forecast Model Experiment\""
   ],
   "metadata": {
    "collapsed": false,
    "ExecuteTime": {
     "end_time": "2023-07-10T10:46:46.377932207Z",
     "start_time": "2023-07-10T10:46:46.330365843Z"
    }
   }
  },
  {
   "cell_type": "code",
   "execution_count": 8,
   "outputs": [],
   "source": [
    "mlflow.set_experiment(\n",
    "    experiment_name=EXPERIMENT_NAME\n",
    ")\n",
    "experiment = mlflow.set_experiment(experiment_name=EXPERIMENT_NAME)"
   ],
   "metadata": {
    "collapsed": false,
    "ExecuteTime": {
     "end_time": "2023-07-10T10:49:12.161973329Z",
     "start_time": "2023-07-10T10:49:12.116570119Z"
    }
   }
  },
  {
   "cell_type": "markdown",
   "source": [
    "## Data loading"
   ],
   "metadata": {
    "collapsed": false
   }
  },
  {
   "cell_type": "code",
   "execution_count": 21,
   "outputs": [
    {
     "name": "stdout",
     "output_type": "stream",
     "text": [
      "X shape: (2593, 19)\n",
      "y shape: (2593,)\n"
     ]
    }
   ],
   "source": [
    "train_dataset = pd.read_csv(\"../data/FULL_DATA_SET\", index_col=0)\n",
    "X, y = train_dataset.iloc[:, :train_dataset.shape[1] - 1], train_dataset.iloc[:, train_dataset.shape[1] - 1]\n",
    "\n",
    "print(f\"X shape: {X.shape}\\ny shape: {y.shape}\")"
   ],
   "metadata": {
    "collapsed": false,
    "ExecuteTime": {
     "end_time": "2023-07-10T10:56:18.671911695Z",
     "start_time": "2023-07-10T10:56:18.661803676Z"
    }
   }
  },
  {
   "cell_type": "code",
   "execution_count": 50,
   "outputs": [
    {
     "name": "stdout",
     "output_type": "stream",
     "text": [
      "(2074, 19)\n"
     ]
    }
   ],
   "source": [
    "sss = StratifiedShuffleSplit(n_splits=1, test_size=0.2, random_state=42)\n",
    "X_train, X_test, y_train, y_test = None, None, None, None\n",
    "\n",
    "for train_index, test_index in sss.split(X, y):\n",
    "    X_train, X_test = X.iloc[train_index], X.iloc[test_index]\n",
    "    y_train, y_test = y.iloc[train_index], y.iloc[test_index]\n",
    "print(X_train.shape)"
   ],
   "metadata": {
    "collapsed": false,
    "ExecuteTime": {
     "end_time": "2023-07-10T12:10:45.835374763Z",
     "start_time": "2023-07-10T12:10:45.790296166Z"
    }
   }
  },
  {
   "cell_type": "code",
   "execution_count": 41,
   "outputs": [
    {
     "data": {
      "text/plain": "target\nrain                 1218\npartly-cloudy-day     709\nclear-day             522\nsnow                   88\ncloudy                 48\nfog                     5\nwind                    3\nName: count, dtype: int64"
     },
     "execution_count": 41,
     "metadata": {},
     "output_type": "execute_result"
    }
   ],
   "source": [
    "y.value_counts()"
   ],
   "metadata": {
    "collapsed": false,
    "ExecuteTime": {
     "end_time": "2023-07-10T11:56:53.016547743Z",
     "start_time": "2023-07-10T11:56:52.962375656Z"
    }
   }
  },
  {
   "cell_type": "markdown",
   "source": [
    "# Experiments with models\n",
    "*Pipeline with preprocessing and ensemble*"
   ],
   "metadata": {
    "collapsed": false
   }
  },
  {
   "cell_type": "code",
   "execution_count": 54,
   "outputs": [
    {
     "name": "stdout",
     "output_type": "stream",
     "text": [
      "['snow' 'rain' 'partly-cloudy-day' 'cloudy' 'clear-day' 'wind' 'fog']\n"
     ]
    }
   ],
   "source": [
    "pipeline = Pipeline([\n",
    "    ('scaler', StandardScaler()),\n",
    "    ('model', RandomForestClassifier())\n",
    "])\n",
    "\n",
    "params = {\n",
    "    'scaler': [StandardScaler(), MinMaxScaler(), Normalizer()],\n",
    "    'model': [RandomForestClassifier(), AdaBoostClassifier(), GradientBoostingClassifier()]\n",
    "}\n",
    "\n",
    "classes = y.unique()\n",
    "print(classes)"
   ],
   "metadata": {
    "collapsed": false,
    "ExecuteTime": {
     "end_time": "2023-07-10T12:56:19.497940331Z",
     "start_time": "2023-07-10T12:56:19.449272078Z"
    }
   }
  },
  {
   "cell_type": "code",
   "execution_count": 52,
   "outputs": [
    {
     "name": "stderr",
     "output_type": "stream",
     "text": [
      "2023/07/10 15:11:50 WARNING mlflow.utils.autologging_utils: You are using an unsupported version of sklearn. If you encounter errors during autologging, try upgrading / downgrading sklearn to a supported version, or try upgrading MLflow.\n",
      "2023/07/10 15:11:50 INFO mlflow.utils.autologging_utils: Created MLflow autologging run with ID '789ec4bebcd74fa0a67dd075d6348a8c', which will track hyperparameters, performance metrics, model artifacts, and lineage information for the current sklearn workflow\n",
      "2023/07/10 15:11:50 WARNING mlflow.utils.autologging_utils: MLflow autologging encountered a warning: \"/home/dity/PycharmProjects/weather_forecast/venv/lib/python3.10/site-packages/mlflow/data/pandas_dataset.py:116: UserWarning: Hint: Inferred schema contains integer column(s). Integer columns in Python cannot represent missing values. If your input data contains missing values at inference time, it will be encoded as floats and will cause a schema enforcement error. The best way to avoid this problem is to infer the model schema based on a realistic data sample (training dataset) that includes missing values. Alternatively, you can declare integer columns as doubles (float64) whenever these columns may have missing values. See `Handling Integers With Missing Values <https://www.mlflow.org/docs/latest/models.html#handling-integers-with-missing-values>`_ for more details.\"\n",
      "/home/dity/PycharmProjects/weather_forecast/venv/lib/python3.10/site-packages/sklearn/model_selection/_split.py:725: UserWarning: The least populated class in y has only 3 members, which is less than n_splits=5.\n",
      "  warnings.warn(\n",
      "2023/07/10 15:13:08 WARNING mlflow.utils.autologging_utils: MLflow autologging encountered a warning: \"/home/dity/PycharmProjects/weather_forecast/venv/lib/python3.10/site-packages/mlflow/models/signature.py:144: UserWarning: Hint: Inferred schema contains integer column(s). Integer columns in Python cannot represent missing values. If your input data contains missing values at inference time, it will be encoded as floats and will cause a schema enforcement error. The best way to avoid this problem is to infer the model schema based on a realistic data sample (training dataset) that includes missing values. Alternatively, you can declare integer columns as doubles (float64) whenever these columns may have missing values. See `Handling Integers With Missing Values <https://www.mlflow.org/docs/latest/models.html#handling-integers-with-missing-values>`_ for more details.\"\n",
      "2023/07/10 15:13:11 INFO mlflow.sklearn.utils: Logging the 5 best runs, 4 runs will be omitted.\n"
     ]
    },
    {
     "name": "stdout",
     "output_type": "stream",
     "text": [
      "Лучший масштабатор: StandardScaler()\n",
      "Лучшая модель: GradientBoostingClassifier()\n",
      "Лучшее значение R^2: 0.9855351842151213\n"
     ]
    }
   ],
   "source": [
    "mlflow.sklearn.autolog()\n",
    "\n",
    "grid_search = GridSearchCV(pipeline, param_grid=params)\n",
    "grid_search.fit(X_train, y_train)\n",
    "\n",
    "print(\"Лучший масштабатор:\", grid_search.best_params_['scaler'])\n",
    "print(\"Лучшая модель:\", grid_search.best_params_['model'])\n",
    "print(\"Лучшее значение R^2:\", grid_search.best_score_)"
   ],
   "metadata": {
    "collapsed": false,
    "ExecuteTime": {
     "end_time": "2023-07-10T12:13:11.505973371Z",
     "start_time": "2023-07-10T12:11:50.323958498Z"
    }
   }
  },
  {
   "cell_type": "code",
   "execution_count": 53,
   "outputs": [
    {
     "name": "stdout",
     "output_type": "stream",
     "text": [
      "Model: Pipeline(steps=[('scaler', StandardScaler()),\n",
      "                ('model', GradientBoostingClassifier())])\n",
      "Score: 0.9855351842151213\n"
     ]
    }
   ],
   "source": [
    "model = grid_search.best_estimator_\n",
    "\n",
    "print(f\"Model: {model}\\nScore: {grid_search.best_score_}\")"
   ],
   "metadata": {
    "collapsed": false,
    "ExecuteTime": {
     "end_time": "2023-07-10T12:51:01.053983603Z",
     "start_time": "2023-07-10T12:51:01.009107644Z"
    }
   }
  },
  {
   "cell_type": "code",
   "execution_count": 56,
   "outputs": [
    {
     "data": {
      "text/plain": "array([[104,   0,   0,   0,   0,   0],\n       [  0,  10,   0,   0,   0,   0],\n       [  0,   0,   0,   1,   0,   0],\n       [  1,   0,   0, 141,   0,   0],\n       [  0,   0,   0,   0, 243,   1],\n       [  0,   0,   0,   1,   9,   8]])"
     },
     "execution_count": 56,
     "metadata": {},
     "output_type": "execute_result"
    }
   ],
   "source": [
    "y_pred = model.predict(X_test)\n",
    "cm = confusion_matrix(y_true=y_test, y_pred=y_pred)\n",
    "score_ = model.score(X_test, y_test)\n",
    "cm"
   ],
   "metadata": {
    "collapsed": false,
    "ExecuteTime": {
     "end_time": "2023-07-10T12:59:42.402032925Z",
     "start_time": "2023-07-10T12:59:42.379328871Z"
    }
   }
  },
  {
   "cell_type": "code",
   "execution_count": 57,
   "outputs": [
    {
     "name": "stdout",
     "output_type": "stream",
     "text": [
      "0.9749518304431599\n"
     ]
    }
   ],
   "source": [
    "print(score_)"
   ],
   "metadata": {
    "collapsed": false,
    "ExecuteTime": {
     "end_time": "2023-07-10T13:02:35.244855661Z",
     "start_time": "2023-07-10T13:02:35.221869261Z"
    }
   }
  },
  {
   "cell_type": "markdown",
   "source": [
    "# Model Tuning\n",
    "**GradientBoosting**"
   ],
   "metadata": {
    "collapsed": false
   }
  },
  {
   "cell_type": "code",
   "execution_count": 73,
   "outputs": [],
   "source": [
    "pipeline = Pipeline([\n",
    "    ('scaler', StandardScaler()),\n",
    "    ('model', GradientBoostingClassifier())\n",
    "])\n",
    "\n",
    "params = {\n",
    "    'model__n_estimators': [100, 200],\n",
    "    'model__learning_rate': [3e-2, 3e-3, 3e-1],\n",
    "    'model__max_depth': [2, 3, 4]\n",
    "}"
   ],
   "metadata": {
    "collapsed": false,
    "ExecuteTime": {
     "end_time": "2023-07-10T14:15:37.997919566Z",
     "start_time": "2023-07-10T14:15:37.955895305Z"
    }
   }
  },
  {
   "cell_type": "code",
   "execution_count": 74,
   "outputs": [
    {
     "name": "stderr",
     "output_type": "stream",
     "text": [
      "2023/07/10 17:15:40 WARNING mlflow.utils.autologging_utils: You are using an unsupported version of sklearn. If you encounter errors during autologging, try upgrading / downgrading sklearn to a supported version, or try upgrading MLflow.\n",
      "2023/07/10 17:15:40 INFO mlflow.utils.autologging_utils: Created MLflow autologging run with ID '09aa479315e14825a5875688d4ef96f0', which will track hyperparameters, performance metrics, model artifacts, and lineage information for the current sklearn workflow\n",
      "2023/07/10 17:15:40 WARNING mlflow.utils.autologging_utils: MLflow autologging encountered a warning: \"/home/dity/PycharmProjects/weather_forecast/venv/lib/python3.10/site-packages/mlflow/data/pandas_dataset.py:116: UserWarning: Hint: Inferred schema contains integer column(s). Integer columns in Python cannot represent missing values. If your input data contains missing values at inference time, it will be encoded as floats and will cause a schema enforcement error. The best way to avoid this problem is to infer the model schema based on a realistic data sample (training dataset) that includes missing values. Alternatively, you can declare integer columns as doubles (float64) whenever these columns may have missing values. See `Handling Integers With Missing Values <https://www.mlflow.org/docs/latest/models.html#handling-integers-with-missing-values>`_ for more details.\"\n",
      "/home/dity/PycharmProjects/weather_forecast/venv/lib/python3.10/site-packages/sklearn/model_selection/_split.py:725: UserWarning: The least populated class in y has only 3 members, which is less than n_splits=5.\n",
      "  warnings.warn(\n"
     ]
    },
    {
     "name": "stdout",
     "output_type": "stream",
     "text": [
      "Fitting 5 folds for each of 18 candidates, totalling 90 fits\n",
      "[CV] END model__learning_rate=0.03, model__max_depth=2, model__n_estimators=100; total time=   2.6s\n",
      "[CV] END model__learning_rate=0.03, model__max_depth=2, model__n_estimators=100; total time=   2.5s\n",
      "[CV] END model__learning_rate=0.03, model__max_depth=2, model__n_estimators=100; total time=   2.9s\n",
      "[CV] END model__learning_rate=0.03, model__max_depth=2, model__n_estimators=100; total time=   2.5s\n",
      "[CV] END model__learning_rate=0.03, model__max_depth=2, model__n_estimators=100; total time=   2.5s\n",
      "[CV] END model__learning_rate=0.03, model__max_depth=2, model__n_estimators=200; total time=   5.0s\n",
      "[CV] END model__learning_rate=0.03, model__max_depth=2, model__n_estimators=200; total time=   5.2s\n",
      "[CV] END model__learning_rate=0.03, model__max_depth=2, model__n_estimators=200; total time=   5.1s\n",
      "[CV] END model__learning_rate=0.03, model__max_depth=2, model__n_estimators=200; total time=   5.1s\n",
      "[CV] END model__learning_rate=0.03, model__max_depth=2, model__n_estimators=200; total time=   5.0s\n",
      "[CV] END model__learning_rate=0.03, model__max_depth=3, model__n_estimators=100; total time=   3.6s\n",
      "[CV] END model__learning_rate=0.03, model__max_depth=3, model__n_estimators=100; total time=   3.5s\n",
      "[CV] END model__learning_rate=0.03, model__max_depth=3, model__n_estimators=100; total time=   3.5s\n",
      "[CV] END model__learning_rate=0.03, model__max_depth=3, model__n_estimators=100; total time=   3.5s\n",
      "[CV] END model__learning_rate=0.03, model__max_depth=3, model__n_estimators=100; total time=   3.5s\n",
      "[CV] END model__learning_rate=0.03, model__max_depth=3, model__n_estimators=200; total time=   7.0s\n",
      "[CV] END model__learning_rate=0.03, model__max_depth=3, model__n_estimators=200; total time=   7.1s\n",
      "[CV] END model__learning_rate=0.03, model__max_depth=3, model__n_estimators=200; total time=   7.2s\n",
      "[CV] END model__learning_rate=0.03, model__max_depth=3, model__n_estimators=200; total time=   7.1s\n",
      "[CV] END model__learning_rate=0.03, model__max_depth=3, model__n_estimators=200; total time=   7.1s\n",
      "[CV] END model__learning_rate=0.03, model__max_depth=4, model__n_estimators=100; total time=   4.6s\n",
      "[CV] END model__learning_rate=0.03, model__max_depth=4, model__n_estimators=100; total time=   4.6s\n",
      "[CV] END model__learning_rate=0.03, model__max_depth=4, model__n_estimators=100; total time=   4.5s\n",
      "[CV] END model__learning_rate=0.03, model__max_depth=4, model__n_estimators=100; total time=   4.6s\n",
      "[CV] END model__learning_rate=0.03, model__max_depth=4, model__n_estimators=100; total time=   4.6s\n",
      "[CV] END model__learning_rate=0.03, model__max_depth=4, model__n_estimators=200; total time=   9.2s\n",
      "[CV] END model__learning_rate=0.03, model__max_depth=4, model__n_estimators=200; total time=   9.3s\n",
      "[CV] END model__learning_rate=0.03, model__max_depth=4, model__n_estimators=200; total time=   9.3s\n",
      "[CV] END model__learning_rate=0.03, model__max_depth=4, model__n_estimators=200; total time=   9.2s\n",
      "[CV] END model__learning_rate=0.03, model__max_depth=4, model__n_estimators=200; total time=   9.3s\n",
      "[CV] END model__learning_rate=0.003, model__max_depth=2, model__n_estimators=100; total time=   2.6s\n",
      "[CV] END model__learning_rate=0.003, model__max_depth=2, model__n_estimators=100; total time=   2.5s\n",
      "[CV] END model__learning_rate=0.003, model__max_depth=2, model__n_estimators=100; total time=   2.6s\n",
      "[CV] END model__learning_rate=0.003, model__max_depth=2, model__n_estimators=100; total time=   2.6s\n",
      "[CV] END model__learning_rate=0.003, model__max_depth=2, model__n_estimators=100; total time=   2.5s\n",
      "[CV] END model__learning_rate=0.003, model__max_depth=2, model__n_estimators=200; total time=   5.0s\n",
      "[CV] END model__learning_rate=0.003, model__max_depth=2, model__n_estimators=200; total time=   5.0s\n",
      "[CV] END model__learning_rate=0.003, model__max_depth=2, model__n_estimators=200; total time=   5.0s\n",
      "[CV] END model__learning_rate=0.003, model__max_depth=2, model__n_estimators=200; total time=   5.0s\n",
      "[CV] END model__learning_rate=0.003, model__max_depth=2, model__n_estimators=200; total time=   5.0s\n",
      "[CV] END model__learning_rate=0.003, model__max_depth=3, model__n_estimators=100; total time=   3.6s\n",
      "[CV] END model__learning_rate=0.003, model__max_depth=3, model__n_estimators=100; total time=   3.5s\n",
      "[CV] END model__learning_rate=0.003, model__max_depth=3, model__n_estimators=100; total time=   3.6s\n",
      "[CV] END model__learning_rate=0.003, model__max_depth=3, model__n_estimators=100; total time=   3.6s\n",
      "[CV] END model__learning_rate=0.003, model__max_depth=3, model__n_estimators=100; total time=   3.6s\n",
      "[CV] END model__learning_rate=0.003, model__max_depth=3, model__n_estimators=200; total time=   7.1s\n",
      "[CV] END model__learning_rate=0.003, model__max_depth=3, model__n_estimators=200; total time=   7.1s\n",
      "[CV] END model__learning_rate=0.003, model__max_depth=3, model__n_estimators=200; total time=   7.1s\n",
      "[CV] END model__learning_rate=0.003, model__max_depth=3, model__n_estimators=200; total time=   7.1s\n",
      "[CV] END model__learning_rate=0.003, model__max_depth=3, model__n_estimators=200; total time=   7.1s\n",
      "[CV] END model__learning_rate=0.003, model__max_depth=4, model__n_estimators=100; total time=   4.6s\n",
      "[CV] END model__learning_rate=0.003, model__max_depth=4, model__n_estimators=100; total time=   4.6s\n",
      "[CV] END model__learning_rate=0.003, model__max_depth=4, model__n_estimators=100; total time=   4.6s\n",
      "[CV] END model__learning_rate=0.003, model__max_depth=4, model__n_estimators=100; total time=   4.6s\n",
      "[CV] END model__learning_rate=0.003, model__max_depth=4, model__n_estimators=100; total time=   4.6s\n",
      "[CV] END model__learning_rate=0.003, model__max_depth=4, model__n_estimators=200; total time=   9.2s\n",
      "[CV] END model__learning_rate=0.003, model__max_depth=4, model__n_estimators=200; total time=   9.2s\n",
      "[CV] END model__learning_rate=0.003, model__max_depth=4, model__n_estimators=200; total time=   9.2s\n",
      "[CV] END model__learning_rate=0.003, model__max_depth=4, model__n_estimators=200; total time=   9.2s\n",
      "[CV] END model__learning_rate=0.003, model__max_depth=4, model__n_estimators=200; total time=   9.2s\n",
      "[CV] END model__learning_rate=0.3, model__max_depth=2, model__n_estimators=100; total time=   1.9s\n",
      "[CV] END model__learning_rate=0.3, model__max_depth=2, model__n_estimators=100; total time=   1.9s\n",
      "[CV] END model__learning_rate=0.3, model__max_depth=2, model__n_estimators=100; total time=   1.9s\n",
      "[CV] END model__learning_rate=0.3, model__max_depth=2, model__n_estimators=100; total time=   1.9s\n",
      "[CV] END model__learning_rate=0.3, model__max_depth=2, model__n_estimators=100; total time=   1.9s\n",
      "[CV] END model__learning_rate=0.3, model__max_depth=2, model__n_estimators=200; total time=   3.0s\n",
      "[CV] END model__learning_rate=0.3, model__max_depth=2, model__n_estimators=200; total time=   3.0s\n",
      "[CV] END model__learning_rate=0.3, model__max_depth=2, model__n_estimators=200; total time=   3.0s\n",
      "[CV] END model__learning_rate=0.3, model__max_depth=2, model__n_estimators=200; total time=   3.0s\n",
      "[CV] END model__learning_rate=0.3, model__max_depth=2, model__n_estimators=200; total time=   3.0s\n",
      "[CV] END model__learning_rate=0.3, model__max_depth=3, model__n_estimators=100; total time=   2.3s\n",
      "[CV] END model__learning_rate=0.3, model__max_depth=3, model__n_estimators=100; total time=   2.3s\n",
      "[CV] END model__learning_rate=0.3, model__max_depth=3, model__n_estimators=100; total time=   2.3s\n",
      "[CV] END model__learning_rate=0.3, model__max_depth=3, model__n_estimators=100; total time=   2.3s\n",
      "[CV] END model__learning_rate=0.3, model__max_depth=3, model__n_estimators=100; total time=   2.3s\n",
      "[CV] END model__learning_rate=0.3, model__max_depth=3, model__n_estimators=200; total time=   3.1s\n",
      "[CV] END model__learning_rate=0.3, model__max_depth=3, model__n_estimators=200; total time=   3.1s\n",
      "[CV] END model__learning_rate=0.3, model__max_depth=3, model__n_estimators=200; total time=   3.3s\n",
      "[CV] END model__learning_rate=0.3, model__max_depth=3, model__n_estimators=200; total time=   3.3s\n",
      "[CV] END model__learning_rate=0.3, model__max_depth=3, model__n_estimators=200; total time=   3.2s\n",
      "[CV] END model__learning_rate=0.3, model__max_depth=4, model__n_estimators=100; total time=   2.4s\n",
      "[CV] END model__learning_rate=0.3, model__max_depth=4, model__n_estimators=100; total time=   2.4s\n",
      "[CV] END model__learning_rate=0.3, model__max_depth=4, model__n_estimators=100; total time=   2.5s\n",
      "[CV] END model__learning_rate=0.3, model__max_depth=4, model__n_estimators=100; total time=   2.4s\n",
      "[CV] END model__learning_rate=0.3, model__max_depth=4, model__n_estimators=100; total time=   2.4s\n",
      "[CV] END model__learning_rate=0.3, model__max_depth=4, model__n_estimators=200; total time=   3.0s\n",
      "[CV] END model__learning_rate=0.3, model__max_depth=4, model__n_estimators=200; total time=   2.9s\n",
      "[CV] END model__learning_rate=0.3, model__max_depth=4, model__n_estimators=200; total time=   3.1s\n",
      "[CV] END model__learning_rate=0.3, model__max_depth=4, model__n_estimators=200; total time=   3.0s\n",
      "[CV] END model__learning_rate=0.3, model__max_depth=4, model__n_estimators=200; total time=   3.0s\n"
     ]
    },
    {
     "name": "stderr",
     "output_type": "stream",
     "text": [
      "2023/07/10 17:22:27 WARNING mlflow.utils.autologging_utils: MLflow autologging encountered a warning: \"/home/dity/PycharmProjects/weather_forecast/venv/lib/python3.10/site-packages/mlflow/models/signature.py:144: UserWarning: Hint: Inferred schema contains integer column(s). Integer columns in Python cannot represent missing values. If your input data contains missing values at inference time, it will be encoded as floats and will cause a schema enforcement error. The best way to avoid this problem is to infer the model schema based on a realistic data sample (training dataset) that includes missing values. Alternatively, you can declare integer columns as doubles (float64) whenever these columns may have missing values. See `Handling Integers With Missing Values <https://www.mlflow.org/docs/latest/models.html#handling-integers-with-missing-values>`_ for more details.\"\n",
      "2023/07/10 17:22:30 INFO mlflow.sklearn.utils: Logging the 5 best runs, 13 runs will be omitted.\n"
     ]
    },
    {
     "data": {
      "text/plain": "GridSearchCV(estimator=Pipeline(steps=[('scaler', StandardScaler()),\n                                       ('model',\n                                        GradientBoostingClassifier())]),\n             param_grid={'model__learning_rate': [0.03, 0.003, 0.3],\n                         'model__max_depth': [2, 3, 4],\n                         'model__n_estimators': [100, 200]},\n             verbose=2)",
      "text/html": "<style>#sk-container-id-6 {color: black;}#sk-container-id-6 pre{padding: 0;}#sk-container-id-6 div.sk-toggleable {background-color: white;}#sk-container-id-6 label.sk-toggleable__label {cursor: pointer;display: block;width: 100%;margin-bottom: 0;padding: 0.3em;box-sizing: border-box;text-align: center;}#sk-container-id-6 label.sk-toggleable__label-arrow:before {content: \"▸\";float: left;margin-right: 0.25em;color: #696969;}#sk-container-id-6 label.sk-toggleable__label-arrow:hover:before {color: black;}#sk-container-id-6 div.sk-estimator:hover label.sk-toggleable__label-arrow:before {color: black;}#sk-container-id-6 div.sk-toggleable__content {max-height: 0;max-width: 0;overflow: hidden;text-align: left;background-color: #f0f8ff;}#sk-container-id-6 div.sk-toggleable__content pre {margin: 0.2em;color: black;border-radius: 0.25em;background-color: #f0f8ff;}#sk-container-id-6 input.sk-toggleable__control:checked~div.sk-toggleable__content {max-height: 200px;max-width: 100%;overflow: auto;}#sk-container-id-6 input.sk-toggleable__control:checked~label.sk-toggleable__label-arrow:before {content: \"▾\";}#sk-container-id-6 div.sk-estimator input.sk-toggleable__control:checked~label.sk-toggleable__label {background-color: #d4ebff;}#sk-container-id-6 div.sk-label input.sk-toggleable__control:checked~label.sk-toggleable__label {background-color: #d4ebff;}#sk-container-id-6 input.sk-hidden--visually {border: 0;clip: rect(1px 1px 1px 1px);clip: rect(1px, 1px, 1px, 1px);height: 1px;margin: -1px;overflow: hidden;padding: 0;position: absolute;width: 1px;}#sk-container-id-6 div.sk-estimator {font-family: monospace;background-color: #f0f8ff;border: 1px dotted black;border-radius: 0.25em;box-sizing: border-box;margin-bottom: 0.5em;}#sk-container-id-6 div.sk-estimator:hover {background-color: #d4ebff;}#sk-container-id-6 div.sk-parallel-item::after {content: \"\";width: 100%;border-bottom: 1px solid gray;flex-grow: 1;}#sk-container-id-6 div.sk-label:hover label.sk-toggleable__label {background-color: #d4ebff;}#sk-container-id-6 div.sk-serial::before {content: \"\";position: absolute;border-left: 1px solid gray;box-sizing: border-box;top: 0;bottom: 0;left: 50%;z-index: 0;}#sk-container-id-6 div.sk-serial {display: flex;flex-direction: column;align-items: center;background-color: white;padding-right: 0.2em;padding-left: 0.2em;position: relative;}#sk-container-id-6 div.sk-item {position: relative;z-index: 1;}#sk-container-id-6 div.sk-parallel {display: flex;align-items: stretch;justify-content: center;background-color: white;position: relative;}#sk-container-id-6 div.sk-item::before, #sk-container-id-6 div.sk-parallel-item::before {content: \"\";position: absolute;border-left: 1px solid gray;box-sizing: border-box;top: 0;bottom: 0;left: 50%;z-index: -1;}#sk-container-id-6 div.sk-parallel-item {display: flex;flex-direction: column;z-index: 1;position: relative;background-color: white;}#sk-container-id-6 div.sk-parallel-item:first-child::after {align-self: flex-end;width: 50%;}#sk-container-id-6 div.sk-parallel-item:last-child::after {align-self: flex-start;width: 50%;}#sk-container-id-6 div.sk-parallel-item:only-child::after {width: 0;}#sk-container-id-6 div.sk-dashed-wrapped {border: 1px dashed gray;margin: 0 0.4em 0.5em 0.4em;box-sizing: border-box;padding-bottom: 0.4em;background-color: white;}#sk-container-id-6 div.sk-label label {font-family: monospace;font-weight: bold;display: inline-block;line-height: 1.2em;}#sk-container-id-6 div.sk-label-container {text-align: center;}#sk-container-id-6 div.sk-container {/* jupyter's `normalize.less` sets `[hidden] { display: none; }` but bootstrap.min.css set `[hidden] { display: none !important; }` so we also need the `!important` here to be able to override the default hidden behavior on the sphinx rendered scikit-learn.org. See: https://github.com/scikit-learn/scikit-learn/issues/21755 */display: inline-block !important;position: relative;}#sk-container-id-6 div.sk-text-repr-fallback {display: none;}</style><div id=\"sk-container-id-6\" class=\"sk-top-container\"><div class=\"sk-text-repr-fallback\"><pre>GridSearchCV(estimator=Pipeline(steps=[(&#x27;scaler&#x27;, StandardScaler()),\n                                       (&#x27;model&#x27;,\n                                        GradientBoostingClassifier())]),\n             param_grid={&#x27;model__learning_rate&#x27;: [0.03, 0.003, 0.3],\n                         &#x27;model__max_depth&#x27;: [2, 3, 4],\n                         &#x27;model__n_estimators&#x27;: [100, 200]},\n             verbose=2)</pre><b>In a Jupyter environment, please rerun this cell to show the HTML representation or trust the notebook. <br />On GitHub, the HTML representation is unable to render, please try loading this page with nbviewer.org.</b></div><div class=\"sk-container\" hidden><div class=\"sk-item sk-dashed-wrapped\"><div class=\"sk-label-container\"><div class=\"sk-label sk-toggleable\"><input class=\"sk-toggleable__control sk-hidden--visually\" id=\"sk-estimator-id-20\" type=\"checkbox\" ><label for=\"sk-estimator-id-20\" class=\"sk-toggleable__label sk-toggleable__label-arrow\">GridSearchCV</label><div class=\"sk-toggleable__content\"><pre>GridSearchCV(estimator=Pipeline(steps=[(&#x27;scaler&#x27;, StandardScaler()),\n                                       (&#x27;model&#x27;,\n                                        GradientBoostingClassifier())]),\n             param_grid={&#x27;model__learning_rate&#x27;: [0.03, 0.003, 0.3],\n                         &#x27;model__max_depth&#x27;: [2, 3, 4],\n                         &#x27;model__n_estimators&#x27;: [100, 200]},\n             verbose=2)</pre></div></div></div><div class=\"sk-parallel\"><div class=\"sk-parallel-item\"><div class=\"sk-item\"><div class=\"sk-label-container\"><div class=\"sk-label sk-toggleable\"><input class=\"sk-toggleable__control sk-hidden--visually\" id=\"sk-estimator-id-21\" type=\"checkbox\" ><label for=\"sk-estimator-id-21\" class=\"sk-toggleable__label sk-toggleable__label-arrow\">estimator: Pipeline</label><div class=\"sk-toggleable__content\"><pre>Pipeline(steps=[(&#x27;scaler&#x27;, StandardScaler()),\n                (&#x27;model&#x27;, GradientBoostingClassifier())])</pre></div></div></div><div class=\"sk-serial\"><div class=\"sk-item\"><div class=\"sk-serial\"><div class=\"sk-item\"><div class=\"sk-estimator sk-toggleable\"><input class=\"sk-toggleable__control sk-hidden--visually\" id=\"sk-estimator-id-22\" type=\"checkbox\" ><label for=\"sk-estimator-id-22\" class=\"sk-toggleable__label sk-toggleable__label-arrow\">StandardScaler</label><div class=\"sk-toggleable__content\"><pre>StandardScaler()</pre></div></div></div><div class=\"sk-item\"><div class=\"sk-estimator sk-toggleable\"><input class=\"sk-toggleable__control sk-hidden--visually\" id=\"sk-estimator-id-23\" type=\"checkbox\" ><label for=\"sk-estimator-id-23\" class=\"sk-toggleable__label sk-toggleable__label-arrow\">GradientBoostingClassifier</label><div class=\"sk-toggleable__content\"><pre>GradientBoostingClassifier()</pre></div></div></div></div></div></div></div></div></div></div></div></div>"
     },
     "execution_count": 74,
     "metadata": {},
     "output_type": "execute_result"
    }
   ],
   "source": [
    "mlflow.sklearn.autolog()\n",
    "\n",
    "grid_search = GridSearchCV(pipeline, param_grid=params, verbose=2)\n",
    "grid_search.fit(X_train, y_train)"
   ],
   "metadata": {
    "collapsed": false,
    "ExecuteTime": {
     "end_time": "2023-07-10T14:22:31.165330368Z",
     "start_time": "2023-07-10T14:15:40.790706709Z"
    }
   }
  },
  {
   "cell_type": "code",
   "execution_count": 76,
   "outputs": [
    {
     "name": "stdout",
     "output_type": "stream",
     "text": [
      "Лучшая модель: {'model__learning_rate': 0.03, 'model__max_depth': 2, 'model__n_estimators': 200}\n",
      "Лучшее значение: 0.9865013677900005\n"
     ]
    }
   ],
   "source": [
    "print(\"Лучшая модель:\", grid_search.best_params_)\n",
    "print(\"Лучшее значение:\", grid_search.best_score_)\n",
    "boost_model = grid_search.best_estimator_"
   ],
   "metadata": {
    "collapsed": false,
    "ExecuteTime": {
     "end_time": "2023-07-10T14:26:53.562354716Z",
     "start_time": "2023-07-10T14:26:53.520401970Z"
    }
   }
  },
  {
   "cell_type": "markdown",
   "source": [
    "# Register Model in Registry"
   ],
   "metadata": {
    "collapsed": false
   }
  },
  {
   "cell_type": "code",
   "execution_count": 79,
   "outputs": [
    {
     "name": "stderr",
     "output_type": "stream",
     "text": [
      "Successfully registered model 'KrasnodarWeatherForecastModel'.\n",
      "2023/07/10 17:38:57 INFO mlflow.tracking._model_registry.client: Waiting up to 300 seconds for model version to finish creation. Model name: KrasnodarWeatherForecastModel, version 1\n"
     ]
    },
    {
     "name": "stdout",
     "output_type": "stream",
     "text": [
      "Name: KrasnodarWeatherForecastModel\n",
      "Version: 1\n"
     ]
    },
    {
     "name": "stderr",
     "output_type": "stream",
     "text": [
      "Created version '1' of model 'KrasnodarWeatherForecastModel'.\n"
     ]
    }
   ],
   "source": [
    "model_uri = \"runs:/09aa479315e14825a5875688d4ef96f0/best_estimator\"\n",
    "mv = mlflow.register_model(model_uri, name=\"KrasnodarWeatherForecastModel\")\n",
    "print(f\"Name: {mv.name}\\nVersion: {mv.version}\")"
   ],
   "metadata": {
    "collapsed": false,
    "ExecuteTime": {
     "end_time": "2023-07-10T14:38:57.384620544Z",
     "start_time": "2023-07-10T14:38:57.227124509Z"
    }
   }
  },
  {
   "cell_type": "code",
   "execution_count": 81,
   "outputs": [
    {
     "data": {
      "text/plain": "<ModelVersion: aliases=[], creation_timestamp=1688999937321, current_stage='Staging', description='', last_updated_timestamp=1689002423997, name='KrasnodarWeatherForecastModel', run_id='09aa479315e14825a5875688d4ef96f0', run_link='', source='s3://mlflow-bucket/1/09aa479315e14825a5875688d4ef96f0/artifacts/best_estimator', status='READY', status_message='', tags={}, user_id='', version='1'>"
     },
     "execution_count": 81,
     "metadata": {},
     "output_type": "execute_result"
    }
   ],
   "source": [
    "client = MlflowClient()\n",
    "client.transition_model_version_stage(\n",
    "    name=\"KrasnodarWeatherForecastModel\",\n",
    "    version=1,\n",
    "    stage=\"Staging\"\n",
    ")"
   ],
   "metadata": {
    "collapsed": false,
    "ExecuteTime": {
     "end_time": "2023-07-10T15:20:24.051853778Z",
     "start_time": "2023-07-10T15:20:24.007779220Z"
    }
   }
  },
  {
   "cell_type": "code",
   "execution_count": null,
   "outputs": [],
   "source": [],
   "metadata": {
    "collapsed": false
   }
  }
 ],
 "metadata": {
  "kernelspec": {
   "display_name": "Python 3",
   "language": "python",
   "name": "python3"
  },
  "language_info": {
   "codemirror_mode": {
    "name": "ipython",
    "version": 2
   },
   "file_extension": ".py",
   "mimetype": "text/x-python",
   "name": "python",
   "nbconvert_exporter": "python",
   "pygments_lexer": "ipython2",
   "version": "2.7.6"
  }
 },
 "nbformat": 4,
 "nbformat_minor": 0
}
